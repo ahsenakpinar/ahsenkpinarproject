{
 "cells": [
  {
   "cell_type": "code",
   "execution_count": 1,
   "metadata": {},
   "outputs": [],
   "source": [
    "import pandas as pd\n",
    "import thinkstats2\n",
    "import numpy as np\n",
    "import thinkplot\n",
    "from scipy import stats\n",
    "import random\n",
    "%matplotlib inline"
   ]
  },
  {
   "cell_type": "code",
   "execution_count": 10,
   "metadata": {},
   "outputs": [],
   "source": [
    "ball_data = pd.read_csv(\"basketball_teams.csv\")\n"
   ]
  },
  {
   "cell_type": "code",
   "execution_count": 11,
   "metadata": {},
   "outputs": [
    {
     "data": {
      "text/html": [
       "<div>\n",
       "<style scoped>\n",
       "    .dataframe tbody tr th:only-of-type {\n",
       "        vertical-align: middle;\n",
       "    }\n",
       "\n",
       "    .dataframe tbody tr th {\n",
       "        vertical-align: top;\n",
       "    }\n",
       "\n",
       "    .dataframe thead th {\n",
       "        text-align: right;\n",
       "    }\n",
       "</style>\n",
       "<table border=\"1\" class=\"dataframe\">\n",
       "  <thead>\n",
       "    <tr style=\"text-align: right;\">\n",
       "      <th></th>\n",
       "      <th>year</th>\n",
       "      <th>rank</th>\n",
       "      <th>confRank</th>\n",
       "      <th>o_fgm</th>\n",
       "      <th>o_fga</th>\n",
       "      <th>o_ftm</th>\n",
       "      <th>o_fta</th>\n",
       "      <th>o_3pm</th>\n",
       "      <th>o_3pa</th>\n",
       "      <th>o_oreb</th>\n",
       "      <th>...</th>\n",
       "      <th>confWon</th>\n",
       "      <th>confLoss</th>\n",
       "      <th>divWon</th>\n",
       "      <th>divLoss</th>\n",
       "      <th>pace</th>\n",
       "      <th>won</th>\n",
       "      <th>lost</th>\n",
       "      <th>games</th>\n",
       "      <th>min</th>\n",
       "      <th>attendance</th>\n",
       "    </tr>\n",
       "  </thead>\n",
       "  <tbody>\n",
       "    <tr>\n",
       "      <th>count</th>\n",
       "      <td>1536.000000</td>\n",
       "      <td>1536.000000</td>\n",
       "      <td>1536.000000</td>\n",
       "      <td>1536.000000</td>\n",
       "      <td>1536.000000</td>\n",
       "      <td>1536.000000</td>\n",
       "      <td>1536.000000</td>\n",
       "      <td>1536.000000</td>\n",
       "      <td>1536.000000</td>\n",
       "      <td>1536.000000</td>\n",
       "      <td>...</td>\n",
       "      <td>1536.000000</td>\n",
       "      <td>1536.000000</td>\n",
       "      <td>1536.000000</td>\n",
       "      <td>1536.000000</td>\n",
       "      <td>1536.000000</td>\n",
       "      <td>1536.000000</td>\n",
       "      <td>1536.000000</td>\n",
       "      <td>1536.000000</td>\n",
       "      <td>1322.000000</td>\n",
       "      <td>1536.000000</td>\n",
       "    </tr>\n",
       "    <tr>\n",
       "      <th>mean</th>\n",
       "      <td>1981.472656</td>\n",
       "      <td>3.346354</td>\n",
       "      <td>4.397135</td>\n",
       "      <td>2920.631510</td>\n",
       "      <td>6363.819010</td>\n",
       "      <td>1572.903646</td>\n",
       "      <td>2093.155599</td>\n",
       "      <td>194.324870</td>\n",
       "      <td>563.151042</td>\n",
       "      <td>741.756510</td>\n",
       "      <td>...</td>\n",
       "      <td>16.682292</td>\n",
       "      <td>16.682292</td>\n",
       "      <td>11.761068</td>\n",
       "      <td>11.763672</td>\n",
       "      <td>5.529297</td>\n",
       "      <td>37.552734</td>\n",
       "      <td>37.557943</td>\n",
       "      <td>70.618490</td>\n",
       "      <td>19148.793495</td>\n",
       "      <td>25710.521484</td>\n",
       "    </tr>\n",
       "    <tr>\n",
       "      <th>std</th>\n",
       "      <td>20.123185</td>\n",
       "      <td>1.773812</td>\n",
       "      <td>4.555967</td>\n",
       "      <td>901.436961</td>\n",
       "      <td>2111.758438</td>\n",
       "      <td>476.075297</td>\n",
       "      <td>670.675615</td>\n",
       "      <td>212.856804</td>\n",
       "      <td>585.410835</td>\n",
       "      <td>520.660237</td>\n",
       "      <td>...</td>\n",
       "      <td>14.477500</td>\n",
       "      <td>14.473945</td>\n",
       "      <td>7.765761</td>\n",
       "      <td>7.742737</td>\n",
       "      <td>22.181582</td>\n",
       "      <td>14.166431</td>\n",
       "      <td>14.074785</td>\n",
       "      <td>23.965236</td>\n",
       "      <td>2020.620665</td>\n",
       "      <td>13469.406103</td>\n",
       "    </tr>\n",
       "    <tr>\n",
       "      <th>min</th>\n",
       "      <td>1937.000000</td>\n",
       "      <td>0.000000</td>\n",
       "      <td>0.000000</td>\n",
       "      <td>0.000000</td>\n",
       "      <td>0.000000</td>\n",
       "      <td>0.000000</td>\n",
       "      <td>0.000000</td>\n",
       "      <td>0.000000</td>\n",
       "      <td>0.000000</td>\n",
       "      <td>0.000000</td>\n",
       "      <td>...</td>\n",
       "      <td>0.000000</td>\n",
       "      <td>0.000000</td>\n",
       "      <td>0.000000</td>\n",
       "      <td>0.000000</td>\n",
       "      <td>0.000000</td>\n",
       "      <td>0.000000</td>\n",
       "      <td>0.000000</td>\n",
       "      <td>0.000000</td>\n",
       "      <td>2640.000000</td>\n",
       "      <td>0.000000</td>\n",
       "    </tr>\n",
       "    <tr>\n",
       "      <th>25%</th>\n",
       "      <td>1968.000000</td>\n",
       "      <td>2.000000</td>\n",
       "      <td>0.000000</td>\n",
       "      <td>2839.750000</td>\n",
       "      <td>6410.500000</td>\n",
       "      <td>1455.000000</td>\n",
       "      <td>1955.000000</td>\n",
       "      <td>0.000000</td>\n",
       "      <td>0.000000</td>\n",
       "      <td>0.000000</td>\n",
       "      <td>...</td>\n",
       "      <td>0.000000</td>\n",
       "      <td>0.000000</td>\n",
       "      <td>7.000000</td>\n",
       "      <td>7.000000</td>\n",
       "      <td>0.000000</td>\n",
       "      <td>28.000000</td>\n",
       "      <td>28.000000</td>\n",
       "      <td>75.000000</td>\n",
       "      <td>19730.000000</td>\n",
       "      <td>32767.000000</td>\n",
       "    </tr>\n",
       "    <tr>\n",
       "      <th>50%</th>\n",
       "      <td>1984.000000</td>\n",
       "      <td>3.000000</td>\n",
       "      <td>3.000000</td>\n",
       "      <td>3169.500000</td>\n",
       "      <td>6894.500000</td>\n",
       "      <td>1639.000000</td>\n",
       "      <td>2191.500000</td>\n",
       "      <td>106.000000</td>\n",
       "      <td>352.500000</td>\n",
       "      <td>962.000000</td>\n",
       "      <td>...</td>\n",
       "      <td>19.000000</td>\n",
       "      <td>19.000000</td>\n",
       "      <td>12.000000</td>\n",
       "      <td>12.000000</td>\n",
       "      <td>0.000000</td>\n",
       "      <td>39.000000</td>\n",
       "      <td>38.000000</td>\n",
       "      <td>82.000000</td>\n",
       "      <td>19780.000000</td>\n",
       "      <td>32767.000000</td>\n",
       "    </tr>\n",
       "    <tr>\n",
       "      <th>75%</th>\n",
       "      <td>1999.000000</td>\n",
       "      <td>5.000000</td>\n",
       "      <td>8.000000</td>\n",
       "      <td>3504.000000</td>\n",
       "      <td>7471.000000</td>\n",
       "      <td>1861.500000</td>\n",
       "      <td>2472.000000</td>\n",
       "      <td>363.000000</td>\n",
       "      <td>1060.000000</td>\n",
       "      <td>1138.250000</td>\n",
       "      <td>...</td>\n",
       "      <td>29.000000</td>\n",
       "      <td>28.000000</td>\n",
       "      <td>17.000000</td>\n",
       "      <td>17.000000</td>\n",
       "      <td>0.000000</td>\n",
       "      <td>48.000000</td>\n",
       "      <td>47.000000</td>\n",
       "      <td>82.000000</td>\n",
       "      <td>19855.000000</td>\n",
       "      <td>32767.000000</td>\n",
       "    </tr>\n",
       "    <tr>\n",
       "      <th>max</th>\n",
       "      <td>2011.000000</td>\n",
       "      <td>9.000000</td>\n",
       "      <td>15.000000</td>\n",
       "      <td>4059.000000</td>\n",
       "      <td>9295.000000</td>\n",
       "      <td>2607.000000</td>\n",
       "      <td>3434.000000</td>\n",
       "      <td>841.000000</td>\n",
       "      <td>2283.000000</td>\n",
       "      <td>1845.000000</td>\n",
       "      <td>...</td>\n",
       "      <td>48.000000</td>\n",
       "      <td>52.000000</td>\n",
       "      <td>44.000000</td>\n",
       "      <td>41.000000</td>\n",
       "      <td>102.000000</td>\n",
       "      <td>72.000000</td>\n",
       "      <td>73.000000</td>\n",
       "      <td>84.000000</td>\n",
       "      <td>20460.000000</td>\n",
       "      <td>32767.000000</td>\n",
       "    </tr>\n",
       "  </tbody>\n",
       "</table>\n",
       "<p>8 rows × 51 columns</p>\n",
       "</div>"
      ],
      "text/plain": [
       "              year         rank     confRank        o_fgm        o_fga  \\\n",
       "count  1536.000000  1536.000000  1536.000000  1536.000000  1536.000000   \n",
       "mean   1981.472656     3.346354     4.397135  2920.631510  6363.819010   \n",
       "std      20.123185     1.773812     4.555967   901.436961  2111.758438   \n",
       "min    1937.000000     0.000000     0.000000     0.000000     0.000000   \n",
       "25%    1968.000000     2.000000     0.000000  2839.750000  6410.500000   \n",
       "50%    1984.000000     3.000000     3.000000  3169.500000  6894.500000   \n",
       "75%    1999.000000     5.000000     8.000000  3504.000000  7471.000000   \n",
       "max    2011.000000     9.000000    15.000000  4059.000000  9295.000000   \n",
       "\n",
       "             o_ftm        o_fta        o_3pm        o_3pa       o_oreb  \\\n",
       "count  1536.000000  1536.000000  1536.000000  1536.000000  1536.000000   \n",
       "mean   1572.903646  2093.155599   194.324870   563.151042   741.756510   \n",
       "std     476.075297   670.675615   212.856804   585.410835   520.660237   \n",
       "min       0.000000     0.000000     0.000000     0.000000     0.000000   \n",
       "25%    1455.000000  1955.000000     0.000000     0.000000     0.000000   \n",
       "50%    1639.000000  2191.500000   106.000000   352.500000   962.000000   \n",
       "75%    1861.500000  2472.000000   363.000000  1060.000000  1138.250000   \n",
       "max    2607.000000  3434.000000   841.000000  2283.000000  1845.000000   \n",
       "\n",
       "           ...           confWon     confLoss       divWon      divLoss  \\\n",
       "count      ...       1536.000000  1536.000000  1536.000000  1536.000000   \n",
       "mean       ...         16.682292    16.682292    11.761068    11.763672   \n",
       "std        ...         14.477500    14.473945     7.765761     7.742737   \n",
       "min        ...          0.000000     0.000000     0.000000     0.000000   \n",
       "25%        ...          0.000000     0.000000     7.000000     7.000000   \n",
       "50%        ...         19.000000    19.000000    12.000000    12.000000   \n",
       "75%        ...         29.000000    28.000000    17.000000    17.000000   \n",
       "max        ...         48.000000    52.000000    44.000000    41.000000   \n",
       "\n",
       "              pace          won         lost        games           min  \\\n",
       "count  1536.000000  1536.000000  1536.000000  1536.000000   1322.000000   \n",
       "mean      5.529297    37.552734    37.557943    70.618490  19148.793495   \n",
       "std      22.181582    14.166431    14.074785    23.965236   2020.620665   \n",
       "min       0.000000     0.000000     0.000000     0.000000   2640.000000   \n",
       "25%       0.000000    28.000000    28.000000    75.000000  19730.000000   \n",
       "50%       0.000000    39.000000    38.000000    82.000000  19780.000000   \n",
       "75%       0.000000    48.000000    47.000000    82.000000  19855.000000   \n",
       "max     102.000000    72.000000    73.000000    84.000000  20460.000000   \n",
       "\n",
       "         attendance  \n",
       "count   1536.000000  \n",
       "mean   25710.521484  \n",
       "std    13469.406103  \n",
       "min        0.000000  \n",
       "25%    32767.000000  \n",
       "50%    32767.000000  \n",
       "75%    32767.000000  \n",
       "max    32767.000000  \n",
       "\n",
       "[8 rows x 51 columns]"
      ]
     },
     "execution_count": 11,
     "metadata": {},
     "output_type": "execute_result"
    }
   ],
   "source": [
    "ball_data.describe()"
   ]
  },
  {
   "cell_type": "code",
   "execution_count": 12,
   "metadata": {
    "scrolled": true
   },
   "outputs": [
    {
     "data": {
      "text/plain": [
       "Hist({0: 107, 25: 75, 26: 73, 31: 72, 29: 69, 27: 68, 30: 67, 22: 65, 28: 61, 18: 59, 24: 57, 21: 55, 20: 55, 23: 54, 33: 44, 32: 42, 19: 42, 17: 41, 15: 40, 14: 35, 36: 32, 16: 32, 13: 31, 12: 30, 35: 29, 11: 29, 34: 28, 9: 24, 10: 19, 37: 16, 1: 13, 7: 12, 8: 11, 6: 9, 4: 9, 39: 7, 3: 7, 2: 7, 5: 5, 38: 3, 40: 2})"
      ]
     },
     "execution_count": 12,
     "metadata": {},
     "output_type": "execute_result"
    }
   ],
   "source": [
    "hist = thinkstats2.Hist(ball_data.homeWon, label=\"homeWon\")   #number of winning at home\n",
    "hist"
   ]
  },
  {
   "cell_type": "code",
   "execution_count": 13,
   "metadata": {},
   "outputs": [
    {
     "data": {
      "text/plain": [
       "Hist({0: 129, 12: 94, 15: 82, 8: 78, 9: 76, 10: 76, 14: 74, 18: 70, 7: 66, 13: 63, 17: 63, 11: 62, 19: 58, 6: 56, 16: 55, 20: 55, 21: 49, 4: 44, 5: 37, 26: 31, 3: 29, 24: 28, 27: 27, 23: 25, 22: 24, 25: 22, 2: 20, 1: 16, 28: 9, 31: 6, 29: 6, 32: 3, 30: 2, 33: 1})"
      ]
     },
     "execution_count": 13,
     "metadata": {},
     "output_type": "execute_result"
    }
   ],
   "source": [
    "hist2 = thinkstats2.Hist(ball_data.awayWon, label=\"awayWon\")   #number of winning at away\n",
    "hist2"
   ]
  },
  {
   "cell_type": "code",
   "execution_count": 14,
   "metadata": {
    "scrolled": true
   },
   "outputs": [
    {
     "data": {
      "image/png": "[encoded data removed]",
      "text/plain": [
       "<Figure size 432x288 with 1 Axes>"
      ]
     },
     "metadata": {},
     "output_type": "display_data"
    }
   ],
   "source": [
    "thinkplot.Hist(hist)\n",
    "thinkplot.Config(xlabel='ball_data (homeWon)', ylabel='Frequency')  #frequency of winning at home/ graph of up/ instead of 0 the other are generally num of winnig match is between 25-30"
   ]
  },
  {
   "cell_type": "code",
   "execution_count": 15,
   "metadata": {
    "scrolled": true
   },
   "outputs": [
    {
     "data": {
      "image/png": "[encoded data removed]",
      "text/plain": [
       "<Figure size 432x288 with 1 Axes>"
      ]
     },
     "metadata": {},
     "output_type": "display_data"
    }
   ],
   "source": [
    "thinkplot.Hist(hist2)\n",
    "thinkplot.Config(xlabel='ball_data (awayWon)', ylabel='Frequency') "
   ]
  },
  {
   "cell_type": "code",
   "execution_count": 16,
   "metadata": {
    "scrolled": false
   },
   "outputs": [
    {
     "name": "stderr",
     "output_type": "stream",
     "text": [
      "No handles with labels found to put in legend.\n"
     ]
    },
    {
     "data": {
      "image/png": "[encoded data removed]",
      "text/plain": [
       "<Figure size 432x288 with 1 Axes>"
      ]
     },
     "metadata": {},
     "output_type": "display_data"
    }
   ],
   "source": [
    "pmfh = thinkstats2.Pmf(ball_data.homeWon)\n",
    "thinkplot.Pmf(pmfg)\n",
    "thinkplot.Config(xlabel='homeWon', ylabel='Pmf')"
   ]
  },
  {
   "cell_type": "code",
   "execution_count": 17,
   "metadata": {
    "scrolled": true
   },
   "outputs": [
    {
     "name": "stderr",
     "output_type": "stream",
     "text": [
      "No handles with labels found to put in legend.\n"
     ]
    },
    {
     "data": {
      "image/png": "[encoded data removed]",
      "text/plain": [
       "<Figure size 432x288 with 1 Axes>"
      ]
     },
     "metadata": {},
     "output_type": "display_data"
    }
   ],
   "source": [
    "pmfh2 = thinkstats2.Pmf(ball_data.awayWon)\n",
    "thinkplot.Pmf(pmfg2)\n",
    "thinkplot.Config(xlabel='awayWon', ylabel='Pmf')"
   ]
  },
  {
   "cell_type": "code",
   "execution_count": 18,
   "metadata": {},
   "outputs": [
    {
     "name": "stderr",
     "output_type": "stream",
     "text": [
      "No handles with labels found to put in legend.\n"
     ]
    },
    {
     "data": {
      "image/png": "[encoded data removed]",
      "text/plain": [
       "<Figure size 432x288 with 1 Axes>"
      ]
     },
     "metadata": {},
     "output_type": "display_data"
    }
   ],
   "source": [
    "pmfa = thinkstats2.Pmf(ball_data.homeWon)\n",
    "thinkplot.Pmf(pmfr)\n",
    "thinkplot.Config(xlabel='homeWon', ylabel='Pmf')"
   ]
  },
  {
   "cell_type": "code",
   "execution_count": 19,
   "metadata": {
    "scrolled": true
   },
   "outputs": [
    {
     "name": "stderr",
     "output_type": "stream",
     "text": [
      "No handles with labels found to put in legend.\n"
     ]
    },
    {
     "data": {
      "image/png": "[encoded data removed]",
      "text/plain": [
       "<Figure size 432x288 with 1 Axes>"
      ]
     },
     "metadata": {},
     "output_type": "display_data"
    }
   ],
   "source": [
    "pmfa = thinkstats2.Pmf(ball_data.awayWon)\n",
    "thinkplot.Pmf(pmfr)\n",
    "thinkplot.Config(xlabel='awayWon', ylabel='Pmf')"
   ]
  },
  {
   "cell_type": "code",
   "execution_count": 20,
   "metadata": {},
   "outputs": [
    {
     "name": "stderr",
     "output_type": "stream",
     "text": [
      "No handles with labels found to put in legend.\n"
     ]
    },
    {
     "data": {
      "image/png": "[encoded data removed]",
      "text/plain": [
       "<Figure size 432x288 with 1 Axes>"
      ]
     },
     "metadata": {},
     "output_type": "display_data"
    }
   ],
   "source": [
    "cdf = thinkstats2.Cdf(ball_data.homeWon)\n",
    "thinkplot.Cdf(cdf)\n",
    "thinkplot.Config(xlabel='homeWon', ylabel='CDF', loc='upper left')"
   ]
  },
  {
   "cell_type": "code",
   "execution_count": 40,
   "metadata": {},
   "outputs": [
    {
     "name": "stderr",
     "output_type": "stream",
     "text": [
      "No handles with labels found to put in legend.\n"
     ]
    },
    {
     "data": {
      "image/png": "[encoded data removed]",
      "text/plain": [
       "<Figure size 432x288 with 1 Axes>"
      ]
     },
     "metadata": {},
     "output_type": "display_data"
    }
   ],
   "source": [
    "cdf = thinkstats2.Cdf(ball_data.awayWon)\n",
    "thinkplot.Cdf(cdf)\n",
    "thinkplot.Config(xlabel='awayWon', ylabel='CDF', loc='upper left')"
   ]
  },
  {
   "cell_type": "code",
   "execution_count": 50,
   "metadata": {
    "scrolled": true
   },
   "outputs": [
    {
     "data": {
      "image/png": "[encoded data removed]",
      "text/plain": [
       "<Figure size 432x288 with 1 Axes>"
      ]
     },
     "metadata": {},
     "output_type": "display_data"
    }
   ],
   "source": [
    "thinkplot.PrePlot()\n",
    "for lam in [2.0, 1, 0.5]:\n",
    "    xs, ps = thinkstats2.RenderExpoCdf(lam,ball_data.homeWon.min(), ball_data.homeWon.max())\n",
    "    label = r'$\\lambda=%g$' % lam\n",
    "    thinkplot.Plot(xs, ps, label=label)\n",
    "    \n",
    "thinkplot.Config(title='cdf of exponential', xlabel='--x--', ylabel='--CDF--', \n",
    "                 loc='right')"
   ]
  },
  {
   "cell_type": "code",
   "execution_count": 64,
   "metadata": {},
   "outputs": [
    {
     "data": {
      "image/png": "[encoded data removed]",
      "text/plain": [
       "<Figure size 432x288 with 1 Axes>"
      ]
     },
     "metadata": {},
     "output_type": "display_data"
    }
   ],
   "source": [
    "thinkplot.PrePlot()\n",
    "for lam in [2.0, 1, 0.5]:  #values of lambda\n",
    "    xs, ps = thinkstats2.RenderExpoCdf(lam,ball_data.awayWon.min(), ball_data.awayWon.max())\n",
    "    label = r'$\\lambda=%g$' % lam\n",
    "    thinkplot.Plot(xs, ps, label=label)\n",
    "    \n",
    "thinkplot.Config(title='cdf of exponential', xlabel='--x--', ylabel='--CDF--', \n",
    "                 loc='right')"
   ]
  },
  {
   "cell_type": "code",
   "execution_count": 54,
   "metadata": {},
   "outputs": [],
   "source": [
    "def Cov(xs, ys, meanx=None, meany=None):\n",
    "    homeWon= np.asarray(xs)\n",
    "    awayWon = np.asarray(ys)\n",
    "\n",
    "    if meanx is None:\n",
    "        meanx = np.mean(homeWon)\n",
    "    if meany is None:\n",
    "        meany = np.mean(awayWon)\n",
    "\n",
    "    cov = np.dot(homeWon-meanx, awayWon-meany) / len(homeWon)\n",
    "    return cov"
   ]
  },
  {
   "cell_type": "code",
   "execution_count": 55,
   "metadata": {},
   "outputs": [
    {
     "data": {
      "text/plain": [
       "60.768096923828125"
      ]
     },
     "execution_count": 55,
     "metadata": {},
     "output_type": "execute_result"
    }
   ],
   "source": [
    "Cov(ball_data.homeWon, ball_data.awayWon)"
   ]
  },
  {
   "cell_type": "code",
   "execution_count": 56,
   "metadata": {
    "scrolled": true
   },
   "outputs": [
    {
     "data": {
      "text/plain": [
       "array([[1.        , 0.82939099],\n",
       "       [0.82939099, 1.        ]])"
      ]
     },
     "execution_count": 56,
     "metadata": {},
     "output_type": "execute_result"
    }
   ],
   "source": [
    "np.corrcoef(ball_data.homeWon,ball_data.awayWon)"
   ]
  },
  {
   "cell_type": "code",
   "execution_count": 57,
   "metadata": {},
   "outputs": [],
   "source": [
    "class HypothesisTest(object):\n",
    "\n",
    "    def __init__(self, data):\n",
    "        self.data = data\n",
    "        self.MakeModel()\n",
    "        self.actual = self.TestStatistic(data)\n",
    "\n",
    "    def PValue(self, iters=100):\n",
    "        self.test_stats = [self.TestStatistic(self.RunModel()) \n",
    "                           for _ in range(iters)]\n",
    "\n",
    "        count = sum(1 for x in self.test_stats if x >= self.actual)\n",
    "        return count / iters\n",
    "\n",
    "    def TestStatistic(self, data):\n",
    "        raise UnimplementedMethodException()\n",
    "\n",
    "    def MakeModel(self):\n",
    "        pass\n",
    "\n",
    "    def RunModel(self):\n",
    "        raise UnimplementedMethodException()"
   ]
  },
  {
   "cell_type": "code",
   "execution_count": 58,
   "metadata": {},
   "outputs": [],
   "source": [
    "class DiffMeansPermute(thinkstats2.HypothesisTest):\n",
    "\n",
    "    def TestStatistic(self, data):\n",
    "        group1, group2 = data\n",
    "        test_stat = abs(group1.std() - group2.std())\n",
    "        return test_stat\n",
    "\n",
    "    def MakeModel(self):\n",
    "        group1, group2 = self.data\n",
    "        self.n, self.m = len(group1), len(group2)\n",
    "        self.pool = np.hstack((group1, group2))\n",
    "\n",
    "    def RunModel(self):\n",
    "        np.random.shuffle(self.pool)\n",
    "        data = self.pool[:self.n], self.pool[self.n:]\n",
    "        return data"
   ]
  },
  {
   "cell_type": "code",
   "execution_count": 59,
   "metadata": {},
   "outputs": [
    {
     "data": {
      "text/plain": [
       "0.0"
      ]
     },
     "execution_count": 59,
     "metadata": {},
     "output_type": "execute_result"
    }
   ],
   "source": [
    "\n",
    "data = ball_data.homeWon.values, ball_data.awayWon.values\n",
    "\n",
    "ht = DiffMeansPermute(data)\n",
    "pvalue = ht.PValue()\n",
    "pvalue"
   ]
  },
  {
   "cell_type": "code",
   "execution_count": null,
   "metadata": {},
   "outputs": [],
   "source": []
  }
 ],
 "metadata": {
  "kernelspec": {
   "display_name": "Python 3",
   "language": "python",
   "name": "python3"
  },
  "language_info": {
   "codemirror_mode": {
    "name": "ipython",
    "version": 3
   },
   "file_extension": ".py",
   "mimetype": "text/x-python",
   "name": "python",
   "nbconvert_exporter": "python",
   "pygments_lexer": "ipython3",
   "version": "3.6.0"
  }
 },
 "nbformat": 4,
 "nbformat_minor": 2
}
